{
 "cells": [
  {
   "cell_type": "markdown",
   "metadata": {},
   "source": [
    "# Programming basics\n",
    "\n",
    "\n",
    "We teach R because it greatly facilitates data analysis, the main topic of this book. By coding in R, we can efficiently perform exploratory data analysis, build data analysis pipelines, and prepare data visualization to communicate results. However, R is not just a data analysis environment but a programming language. Advanced R programmers can develop complex packages and even improve R itself, but we do not cover advanced programming in this book. Nonetheless, in this section, we introduce three key programming concepts: conditional expressions, for-loops, and functions. These are not just key building blocks for advanced programming, but are sometimes useful during data analysis. We also note that there are several functions that are widely used to program in R but that we will not cover in this book. These include `split`, `cut`, `do.call`, and `Reduce`, as well as the __data.table__ package. These are worth learning if you plan to become an expert R programmer.\n",
    "\n",
    "## Conditional expressions\n",
    "\n",
    "Conditional expressions are one of the basic features of programming. They are used for what is called _flow control_. The most common conditional expression is the if-else statement. In R, we can actually perform quite a bit of data analysis without conditionals. However, they do come up occasionally, and you will need them once you start writing your own functions and packages.\n",
    "\n",
    "Here is a very simple example showing the general structure of an if-else statement. The basic idea is to print the reciprocal of `a` unless `a` is 0:"
   ]
  },
  {
   "cell_type": "code",
   "execution_count": 5,
   "metadata": {},
   "outputs": [
    {
     "name": "stdout",
     "output_type": "stream",
     "text": [
      "No reciprocal for 0.\n"
     ]
    }
   ],
   "source": [
    "a = 0\n",
    "if (a!=0):\n",
    "    print(1/a)\n",
    "else:\n",
    "    print(\"No reciprocal for 0.\")"
   ]
  },
  {
   "cell_type": "markdown",
   "metadata": {},
   "source": [
    "Let's look at one more example using the US murders data frame:"
   ]
  },
  {
   "cell_type": "code",
   "execution_count": 35,
   "metadata": {},
   "outputs": [],
   "source": [
    "import pandas as pd\n",
    "url = \"https://drive.google.com/file/d/1tKMnvQSEoanKybZf25ItHEcY1zjPqueF/view?usp=sharing\"\n",
    "cleaned_url = 'https://drive.google.com/uc?id=' + url.split('/')[-2]\n",
    "murders = pd.read_csv(cleaned_url)\n",
    "murder_rate = murders[\"total\"] / murders[\"population\"]*100000"
   ]
  },
  {
   "cell_type": "markdown",
   "metadata": {},
   "source": [
    "Here is a very simple example that tells us which states, if any, have a murder rate lower than 0.5 per 100,000. The `if` statement protects us from the case in which no state satisfies the condition."
   ]
  },
  {
   "cell_type": "code",
   "execution_count": 36,
   "metadata": {},
   "outputs": [
    {
     "name": "stdout",
     "output_type": "stream",
     "text": [
      "Vermont\n"
     ]
    }
   ],
   "source": [
    "import numpy as np\n",
    "ind = np.argmin(murder_rate)\n",
    "if (murder_rate[ind] < 0.5):\n",
    "    print(murders[\"state\"][ind])\n",
    "else:\n",
    "    print(\"No state has murder rate that low\")"
   ]
  },
  {
   "cell_type": "markdown",
   "metadata": {},
   "source": [
    "If we try it again with a rate of 0.25, we get a different answer:"
   ]
  },
  {
   "cell_type": "code",
   "execution_count": 38,
   "metadata": {},
   "outputs": [
    {
     "name": "stdout",
     "output_type": "stream",
     "text": [
      "No state has a murder rate that low.\n"
     ]
    }
   ],
   "source": [
    "if (murder_rate[ind] < 0.25):\n",
    "    print(murders[\"state\"][ind])\n",
    "else:\n",
    "    print(\"No state has a murder rate that low.\")"
   ]
  },
  {
   "cell_type": "markdown",
   "metadata": {},
   "source": [
    "A related function that is very useful is `ifelse`. This function takes three arguments: a logical and two possible answers. If the logical is `TRUE`, the value in the second argument is returned and if `FALSE`, the value in the third argument is returned. Here is an example:"
   ]
  },
  {
   "cell_type": "code",
   "execution_count": 9,
   "metadata": {},
   "outputs": [
    {
     "name": "stdout",
     "output_type": "stream",
     "text": [
      "NaN\n"
     ]
    }
   ],
   "source": [
    "a = 0\n",
    "if (a > 0):\n",
    "    print(1/a)\n",
    "else:\n",
    "    print('NaN')"
   ]
  },
  {
   "cell_type": "markdown",
   "metadata": {},
   "source": [
    "The function is particularly useful because it works on vectors. It examines each entry of the logical vector and returns elements from the vector provided in the second argument, if the entry is `TRUE`, or elements from the vector provided in the third argument, if the entry is `FALSE`."
   ]
  },
  {
   "cell_type": "code",
   "execution_count": 10,
   "metadata": {},
   "outputs": [
    {
     "name": "stdout",
     "output_type": "stream",
     "text": [
      "NaN\n",
      "1.0\n",
      "0.5\n",
      "NaN\n",
      "0.2\n"
     ]
    }
   ],
   "source": [
    "a = [0, 1, 2, -4, 5]\n",
    "# Python does not have a true equivalent of R's ifelse statement\n",
    "for value in a:\n",
    "    if (value > 0):\n",
    "        print(1/value)\n",
    "    else:\n",
    "        print('NaN')"
   ]
  },
  {
   "cell_type": "markdown",
   "metadata": {},
   "source": [
    "This table helps us see what happened:"
   ]
  },
  {
   "cell_type": "markdown",
   "metadata": {},
   "source": [
    "```\n",
    "tmp <- data.frame(a = a, is_a_positive = a > 0, answer1 = 1/a, answer2 = NA, result = result)\n",
    "if(knitr::is_html_output()){\n",
    "  knitr::kable(tmp, \"html\") %>%\n",
    "    kableExtra::kable_styling(bootstrap_options = \"striped\", full_width = FALSE)\n",
    "} else{\n",
    "  knitr::kable(tmp, \"latex\", booktabs = TRUE) %>%\n",
    "    kableExtra::kable_styling(font_size = 8)\n",
    "}\n",
    "```"
   ]
  },
  {
   "cell_type": "code",
   "execution_count": 11,
   "metadata": {},
   "outputs": [],
   "source": [
    "# Create table"
   ]
  },
  {
   "cell_type": "markdown",
   "metadata": {},
   "source": [
    "Two other useful functions are `any` and `all`. The `any` function takes a vector of logicals and returns `TRUE` if any of the entries is `TRUE`. The `all` function takes a vector of logicals and returns `TRUE` if all of the entries are `TRUE`. Here is an example:"
   ]
  },
  {
   "cell_type": "code",
   "execution_count": 13,
   "metadata": {},
   "outputs": [
    {
     "name": "stdout",
     "output_type": "stream",
     "text": [
      "True\n",
      "False\n"
     ]
    }
   ],
   "source": [
    "z = [True, True, False]\n",
    "print(any(z))\n",
    "print(all(z))"
   ]
  },
  {
   "cell_type": "markdown",
   "metadata": {},
   "source": [
    "## Defining functions\n",
    "\n",
    "As you become more experienced, you will find yourself needing to perform the same operations over and over. A simple example is computing averages. We can compute the average of a vector `x` using the `sum` and `length` functions: `sum(x)/length(x)`. Because we do this repeatedly, it is much more efficient to write a function that performs this operation. This particular operation is so common that someone already wrote the `mean` function and it is included in base R. However, you will encounter situations in which the function does not already exist, so R permits you to write your own. A simple version of a function that computes the average can be defined like this:"
   ]
  },
  {
   "cell_type": "code",
   "execution_count": 14,
   "metadata": {},
   "outputs": [],
   "source": [
    "def avg(x):\n",
    "    s = sum(x)\n",
    "    n = len(x)\n",
    "    print(s/n)"
   ]
  },
  {
   "cell_type": "markdown",
   "metadata": {},
   "source": [
    "Now `avg` is a function that computes the mean:"
   ]
  },
  {
   "cell_type": "code",
   "execution_count": 15,
   "metadata": {},
   "outputs": [
    {
     "name": "stdout",
     "output_type": "stream",
     "text": [
      "50.5\n",
      "False\n"
     ]
    }
   ],
   "source": [
    "x = range(1,101)\n",
    "print(np.mean(x)==avg(x))"
   ]
  },
  {
   "cell_type": "markdown",
   "metadata": {},
   "source": [
    "Notice that variables defined inside a function are not saved in the workspace. So while we use `s` and `n` when we call `avg`, the values are created and changed only during the call. Here is an illustrative example:"
   ]
  },
  {
   "cell_type": "code",
   "execution_count": 16,
   "metadata": {},
   "outputs": [
    {
     "name": "stdout",
     "output_type": "stream",
     "text": [
      "5.5\n",
      "None\n",
      "3\n"
     ]
    }
   ],
   "source": [
    "s = 3\n",
    "print(avg(range(1,11)))\n",
    "print(s)"
   ]
  },
  {
   "cell_type": "markdown",
   "metadata": {},
   "source": [
    "```\n",
    "def function(VARIABLE_NAME):\n",
    "  perform operations on VARIABLE_NAME and calculate VALUE\n",
    "  return VALUE\n",
    "```"
   ]
  },
  {
   "cell_type": "markdown",
   "metadata": {},
   "source": [
    "The functions you define can have multiple arguments as well as default values. For example, we can define a function that computes either the arithmetic or geometric average depending on a user defined variable like this:"
   ]
  },
  {
   "cell_type": "code",
   "execution_count": 17,
   "metadata": {},
   "outputs": [],
   "source": [
    "def avg(x, arithmetic = True):\n",
    "  n = len(x)\n",
    "  if arithmetic == True:\n",
    "    return sum(x)/n\n",
    "  else:\n",
    "    return np.prod(x)^(1/n)"
   ]
  },
  {
   "cell_type": "markdown",
   "metadata": {},
   "source": [
    "\n",
    "We will learn more about how to create functions through experience as we face more complex tasks.\n",
    "\n",
    "## Namespaces\n",
    "\n",
    "Once you start becoming more of an R expert user, you will likely need to load several add-on packages for some of your analysis. Once you start doing this, it is likely that two packages use the same name for two different functions. And often these functions do completely different things. In fact, you have already encountered this because both __dplyr__ and the R-base  __stats__ package define a `filter` function.  There are five other examples in __dplyr__. We know this because when we first load __dplyr__ we see the following message:"
   ]
  },
  {
   "cell_type": "markdown",
   "metadata": {},
   "source": [
    "The following objects are masked from ‘package:stats’:\n",
    "    filter, lag\n",
    "The following objects are masked from ‘package:base’:\n",
    "    intersect, setdiff, setequal, union"
   ]
  },
  {
   "cell_type": "markdown",
   "metadata": {},
   "source": [
    "So what does R do when we type `filter`? Does it use the __dplyr__ function or the __stats__ function? From our previous work we know it uses the __dplyr__ one. But what if we want to use the __stats__ version?\n",
    "\n",
    "These functions live in different _namespaces_. R will follow a certain order when searching for a function in these _namespaces_. You can see the order by typing:"
   ]
  },
  {
   "cell_type": "markdown",
   "metadata": {},
   "source": [
    "```{code-cell} r\n",
    "search()\n",
    "```"
   ]
  },
  {
   "cell_type": "markdown",
   "metadata": {},
   "source": [
    "The first entry in this list is the global environment which includes all the objects you define. \n",
    "\n",
    "So what if we want to use the __stats__ `filter` instead of the __dplyr__ filter but __dplyr__ appears first in the search list? You can force the use of a specific namespace by using double colons (`::`) like this:"
   ]
  },
  {
   "cell_type": "markdown",
   "metadata": {},
   "source": [
    "```{code-cell} r\n",
    "stats::filter\n",
    "```"
   ]
  },
  {
   "cell_type": "markdown",
   "metadata": {},
   "source": [
    "If we want to be absolutely sure that we use the __dplyr__ `filter`, we can use"
   ]
  },
  {
   "cell_type": "markdown",
   "metadata": {},
   "source": [
    "```{code-cell} r\n",
    "dplyr::filter\n",
    "```"
   ]
  },
  {
   "cell_type": "markdown",
   "metadata": {},
   "source": [
    "Also note that if we want to use a function in a package without loading the entire package, we can use the double colon as well.\n",
    "\n",
    "For more on this more advanced topic we recommend the R packages book^[http://r-pkgs.had.co.nz/namespace.html].\n",
    "\n",
    "## For-loops\n",
    "\n",
    "The formula for the sum of the series $1+2+\\dots+n$ is $n(n+1)/2$. What if we weren't sure that was the right function? How could we check? Using what we learned about functions we can create one that computes the $S_n$:"
   ]
  },
  {
   "cell_type": "code",
   "execution_count": 18,
   "metadata": {},
   "outputs": [],
   "source": [
    "def compute_s_n(n):\n",
    "  x = range(1,n+1)\n",
    "  return sum(x)"
   ]
  },
  {
   "cell_type": "markdown",
   "metadata": {},
   "source": [
    "How can we compute $S_n$ for various values of $n$, say $n=1,\\dots,25$? Do we write 25 lines of code calling `compute_s_n`? No, that is what for-loops are for in programming. In this case, we are performing exactly the same task over and over, and the only thing that is changing is the value of $n$. For-loops let us define the range that our variable takes (in our example $n=1,\\dots,10$), then change the value and evaluate expression as you _loop_. \n",
    "\n",
    "Perhaps the simplest example of a for-loop is this useless piece of code:"
   ]
  },
  {
   "cell_type": "code",
   "execution_count": 19,
   "metadata": {},
   "outputs": [
    {
     "name": "stdout",
     "output_type": "stream",
     "text": [
      "1\n",
      "2\n",
      "3\n",
      "4\n",
      "5\n"
     ]
    }
   ],
   "source": [
    "for i in range(1,6):\n",
    "  print(i)"
   ]
  },
  {
   "cell_type": "markdown",
   "metadata": {},
   "source": [
    "Here is the for-loop we would write for our $S_n$ example:"
   ]
  },
  {
   "cell_type": "code",
   "execution_count": 41,
   "metadata": {},
   "outputs": [],
   "source": [
    "m = 25\n",
    "s_n = np.empty(25, dtype=object)\n",
    "for n in range(1,m):\n",
    "  s_n[n] = compute_s_n(n)"
   ]
  },
  {
   "cell_type": "markdown",
   "metadata": {},
   "source": [
    "In each iteration $n=1$, $n=2$, etc..., we compute $S_n$ and store it in the $n$th entry of `s_n`.\n",
    "\n",
    "Now we can create a plot to search for a pattern:"
   ]
  },
  {
   "cell_type": "code",
   "execution_count": 21,
   "metadata": {},
   "outputs": [
    {
     "data": {
      "image/png": "[encoded data removed]",
      "text/plain": [
       "<Figure size 432x288 with 1 Axes>"
      ]
     },
     "metadata": {
      "needs_background": "light"
     },
     "output_type": "display_data"
    }
   ],
   "source": [
    "import matplotlib.pyplot as plt\n",
    "n = range(1, m+1)\n",
    "plt.plot(n,s_n)\n",
    "plt.show()"
   ]
  },
  {
   "cell_type": "markdown",
   "metadata": {},
   "source": [
    "If you noticed that it appears to be a quadratic, you are on the right track because the formula is $n(n+1)/2$."
   ]
  },
  {
   "cell_type": "markdown",
   "metadata": {},
   "source": [
    "<!--\n",
    "which we can confirm with a table:\n",
    "```{code-cell} r\n",
    "head(data.frame(s_n = s_n, formula = n*(n+1)/2))\n",
    "```\n",
    "We can also overlay the two results by using the function `lines` to draw a line over the previously plotted points:\n",
    "```{r s_n-v-n}\n",
    "plot(n, s_n)\n",
    "lines(n, n*(n+1)/2)\n",
    "```\n",
    "-->"
   ]
  },
  {
   "cell_type": "markdown",
   "metadata": {},
   "source": [
    "## Vectorization and functionals\n",
    "\n",
    "Although for-loops are an important concept to understand, in R we rarely use them. As you learn more R, you will realize that _vectorization_ is preferred over for-loops since it results in shorter and clearer code. We already saw examples in the Vector Arithmetic section. A _vectorized_ function is a function that will apply the same operation on each of the vectors."
   ]
  },
  {
   "cell_type": "code",
   "execution_count": 23,
   "metadata": {},
   "outputs": [
    {
     "name": "stdout",
     "output_type": "stream",
     "text": [
      "[1.         1.41421356 1.73205081 2.         2.23606798 2.44948974\n",
      " 2.64575131 2.82842712 3.         3.16227766]\n",
      "[  1   4   9  16  25  36  49  64  81 100]\n"
     ]
    }
   ],
   "source": [
    "x = range(1,11)\n",
    "print(np.sqrt(x))\n",
    "y = range(1,11)\n",
    "print(np.multiply(x,y))"
   ]
  },
  {
   "cell_type": "markdown",
   "metadata": {},
   "source": [
    "To make this calculation, there is no need for for-loops. However, not all functions work this way. For instance, the function we just wrote, `compute_s_n`, does not work element-wise since it is expecting a scalar. This piece of code does not run the function on each entry of `n`:"
   ]
  },
  {
   "cell_type": "markdown",
   "metadata": {},
   "source": [
    "```\n",
    "n = range(1,26)\n",
    "compute_s_n(n)\n",
    "```"
   ]
  },
  {
   "cell_type": "markdown",
   "metadata": {},
   "source": [
    "_Functionals_ are functions that help us apply the same function to each entry in a vector, matrix, data frame, or list. Here we cover the functional that operates on numeric, logical, and character vectors: `sapply`.\n",
    "\n",
    "The function `sapply` permits us to perform element-wise operations on any function. Here is how it works:"
   ]
  },
  {
   "cell_type": "code",
   "execution_count": null,
   "metadata": {},
   "outputs": [],
   "source": [
    "x = range(1,11)\n",
    "print(list(map(np.sqrt, x))) # map returns a map object, so we must pass it to list() to view the contents"
   ]
  },
  {
   "cell_type": "markdown",
   "metadata": {},
   "source": [
    "Each element of `x` is passed on to the function `sqrt` and the result is returned. These results are concatenated. In this case, the result is a vector of the same length as the original `x`. This implies that the for-loop above can be written as follows:"
   ]
  },
  {
   "cell_type": "code",
   "execution_count": null,
   "metadata": {},
   "outputs": [],
   "source": [
    "n = range(1,26)\n",
    "s_n = map(compute_s_n, n)"
   ]
  },
  {
   "cell_type": "markdown",
   "metadata": {},
   "source": [
    "Other functionals are `apply`, `lapply`, `tapply`, `mapply`, `vapply`, and `replicate`. We mostly use `sapply`, `apply`, and `replicate` in this book, but we recommend familiarizing yourselves with the others as they can be very useful."
   ]
  },
  {
   "cell_type": "markdown",
   "metadata": {},
   "source": [
    "## Exercises \n",
    "\n",
    "1\\. What will this conditional expression return?\n",
    "\n",
    "```{code-cell} r\n",
    "x <- c(1,2,-3,4)\n",
    "if(all(x>0)){\n",
    "  print(\"All Postives\")\n",
    "} else{\n",
    "  print(\"Not all positives\")\n",
    "}\n",
    "```\n",
    "\n",
    "\n",
    "2\\. Which of the following expressions is always `FALSE` when at least one entry of a logical vector `x` is TRUE?\n",
    "\n",
    "a. `all(x)`\n",
    "b. `any(x)`\n",
    "c. `any(!x)`\n",
    "d. `all(!x)`\n",
    "\n",
    "3\\. The function `nchar` tells you how many characters long a character vector is. Write a line of code that assigns to the object `new_names` the state abbreviation when the state name is longer than 8 characters.\n",
    "    \n",
    "  \n",
    "4\\. Create a function `sum_n` that for any given value, say $n$, computes the sum of the integers from 1 to n (inclusive). Use the function to determine the sum of integers from 1 to 5,000.\n",
    "\n",
    "5\\. Create a function `altman_plot` that takes two arguments, `x` and `y`, and plots the difference against the sum.\n",
    "  \n",
    "6\\. After running the code below, what is the value of `x`?\n",
    "\n",
    "```{code-cell} r\n",
    "x <- 3\n",
    "my_func <- function(y){\n",
    "  x <- 5\n",
    "  y+5\n",
    "}\n",
    "```\n",
    "\n",
    "7\\. Write a function `compute_s_n` that for any given $n$ computes the sum $S_n = 1^2 + 2^2 + 3^2 + \\dots n^2$. Report the value of the sum when $n=10$.\n",
    " \n",
    "8\\. Define an empty numerical vector `s_n` of size 25 using `s_n <- vector(\"numeric\", 25)` and store in the results of $S_1, S_2, \\dots S_{25}$ using a for-loop.\n",
    "\n",
    "9\\. Repeat exercise 8, but this time use `sapply`.\n",
    "\n",
    "10\\. Repeat exercise 8, but this time use `map_dbl`.\n",
    "\n",
    "11\\. Plot $S_n$ versus $n$. Use points defined by $n=1,\\dots,25$.\n",
    "\n",
    "12\\. Confirm that the formula for this sum is $S_n= n(n+1)(2n+1)/6$."
   ]
  }
 ],
 "metadata": {
  "interpreter": {
   "hash": "4dbaad81d9a571c8b0dbc47171d237fc074710482b107e40dd0edf35519c9670"
  },
  "kernelspec": {
   "display_name": "Python 3.9.7 ('DL')",
   "language": "python",
   "name": "python3"
  },
  "language_info": {
   "codemirror_mode": {
    "name": "ipython",
    "version": 3
   },
   "file_extension": ".py",
   "mimetype": "text/x-python",
   "name": "python",
   "nbconvert_exporter": "python",
   "pygments_lexer": "ipython3",
   "version": "3.9.7"
  },
  "orig_nbformat": 4
 },
 "nbformat": 4,
 "nbformat_minor": 2
}
